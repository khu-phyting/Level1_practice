{
 "cells": [
  {
   "cell_type": "markdown",
   "metadata": {},
   "source": [
    "# 주어진 문자열(공백 없이 쉼표로 구분되어 있음)을 가지고 아래 문제에 대한 프로그램을 작성하세요.\n",
    "\n",
    "## 이유덕,이재영,권종표,이재영,박민호,강상희,이재영,김지완,최승혁,이성연,박영서,박민호,전경헌,송정환,김재성,이유덕,전경헌\n",
    "\n",
    "### 1. 김씨와 이씨는 각각 몇 명 인가요?\n",
    "### 2. \"이재영\"이란 이름이 몇 번 반복되나요?\n",
    "### 3. 중복을 제거한 이름을 출력하세요.\n",
    "### 4. 중복을 제거한 이름을 오름차순으로 정렬하여 출력하세요."
   ]
  },
  {
   "cell_type": "code",
   "execution_count": 3,
   "metadata": {},
   "outputs": [
    {
     "name": "stdout",
     "output_type": "stream",
     "text": [
      "2 6\n"
     ]
    }
   ],
   "source": [
    "# 1. 김씨와 이씨는 각각 몇 명인가요?\n",
    "names = [\"이유덕\",\"이재영\",\"권종표\",\"이재영\",\"박민호\",\"강상희\",\"이재영\",\"김지완\",\"최승혁\",\"이성연\",\"박영서\",\"박민호\",\"전경헌\",\"송정환\",\"김재성\",\"이유덕\",\"전경헌\"]\n",
    "\n",
    "count_Kim = 0\n",
    "count_Lee = 0\n",
    "for name in names:\n",
    "    if \"김\" == name[0]:\n",
    "        count_Kim += 1\n",
    "        \n",
    "for name in names:\n",
    "    if \"이\" == name[0]:\n",
    "        count_Lee += 1\n",
    "        \n",
    "print(count_Kim, count_Lee)\n",
    "        "
   ]
  },
  {
   "cell_type": "code",
   "execution_count": 4,
   "metadata": {},
   "outputs": [
    {
     "name": "stdout",
     "output_type": "stream",
     "text": [
      "3\n"
     ]
    }
   ],
   "source": [
    "# 2. \"이재영\"이란 이름이 몇 번 반복되나요?\n",
    "names = [\"이유덕\",\"이재영\",\"권종표\",\"이재영\",\"박민호\",\"강상희\",\"이재영\",\"김지완\",\"최승혁\",\"이성연\",\"박영서\",\"박민호\",\"전경헌\",\"송정환\",\"김재성\",\"이유덕\",\"전경헌\"]\n",
    "\n",
    "count_LJY = 0\n",
    "for name in names:\n",
    "    if \"이재영\" in name:\n",
    "        count_LJY += 1\n",
    "        \n",
    "print(count_LJY)"
   ]
  },
  {
   "cell_type": "code",
   "execution_count": 5,
   "metadata": {},
   "outputs": [
    {
     "name": "stdout",
     "output_type": "stream",
     "text": [
      "['이재영', '강상희', '이재영', '김지완', '이성연', '박민호', '송정환', '이유덕']\n"
     ]
    }
   ],
   "source": [
    "# 3. 중복을 제거한 이름을 출력하세요.\n",
    "names = [\"이유덕\",\"이재영\",\"권종표\",\"이재영\",\"박민호\",\"강상희\",\"이재영\",\"김지완\",\"최승혁\",\"이성연\",\"박영서\",\"박민호\",\"전경헌\",\"송정환\",\"김재성\",\"이유덕\",\"전경헌\"]\n",
    "\n",
    "for name in names:\n",
    "    if name in names:\n",
    "        names.remove(name)   # remove()함수 사용. 리스트.remove(값) 의 형태로 사용. 리스트 내부에 값을 지정해서 제거함.\n",
    "        \n",
    "print(names)"
   ]
  },
  {
   "cell_type": "code",
   "execution_count": 12,
   "metadata": {},
   "outputs": [
    {
     "name": "stdout",
     "output_type": "stream",
     "text": [
      "['이재영', '이재영', '이유덕', '이성연', '송정환', '박민호', '김지완', '강상희']\n",
      "\n",
      "None\n"
     ]
    }
   ],
   "source": [
    "# 4. 중복을 제거한 이름을 오름차순으로 정렬하여 출력하세요.\n",
    "names = [\"이유덕\",\"이재영\",\"권종표\",\"이재영\",\"박민호\",\"강상희\",\"이재영\",\"김지완\",\"최승혁\",\"이성연\",\"박영서\",\"박민호\",\"전경헌\",\"송정환\",\"김재성\",\"이유덕\",\"전경헌\"]\n",
    "\n",
    "for name in names:\n",
    "    if name in names:\n",
    "        names.remove(name)\n",
    "        \n",
    "print(sorted(names, reverse = True))       # sorted() 함수를 이용하여 한글을 사전순으로 오름차순으로 정렬.\n",
    "                                           # sorted() 함수 내부에 키워드 reverse = True를 하면 내림차순으로 정렬함.\n",
    "                                           # names.sort() 를 하면 왜 출력이 None이지,,,?\n",
    "        \n",
    "print()\n",
    "print(names.sort(reverse=False))"
   ]
  }
 ],
 "metadata": {
  "kernelspec": {
   "display_name": "Python 3",
   "language": "python",
   "name": "python3"
  },
  "language_info": {
   "codemirror_mode": {
    "name": "ipython",
    "version": 3
   },
   "file_extension": ".py",
   "mimetype": "text/x-python",
   "name": "python",
   "nbconvert_exporter": "python",
   "pygments_lexer": "ipython3",
   "version": "3.7.3"
  }
 },
 "nbformat": 4,
 "nbformat_minor": 2
}
