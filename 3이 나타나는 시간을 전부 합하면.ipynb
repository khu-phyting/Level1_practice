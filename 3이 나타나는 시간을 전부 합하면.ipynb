{
 "cells": [
  {
   "cell_type": "markdown",
   "metadata": {},
   "source": [
    "# 디지털 시계에 하루동안(00:00~23:59) 3이 표시되는 시간을 초로 환산하면 총 몇 초(second) 일까요?\n",
    "\n",
    "## 디지털 시계는 하루동안 다음과 같이 시:분(00:00~23:59)으로 표시됩니다.\n",
    "\n",
    "### 00:00 (60초간 표시됨)\n",
    "### 00:01 \n",
    "### 00:02 \n",
    "### ...\n",
    "### 23:59"
   ]
  },
  {
   "cell_type": "code",
   "execution_count": 7,
   "metadata": {},
   "outputs": [
    {
     "name": "stdout",
     "output_type": "stream",
     "text": [
      "29700\n"
     ]
    }
   ],
   "source": [
    "sum=0\n",
    "for hr in range(24):                    # hr에 0부터 23까지 대입\n",
    "    for min in range(60):               # min에 0부터 59까지 대입\n",
    "        if \"3\" in str(hr) + str(min):   # hr을 문자열로 변환하고 min을 문자열로 변환해서 문자열 연결 연산자로 이어준 후, 3이라는 문자가 있으면\n",
    "            sum += 60                   # sum에 60을 더해준다\n",
    "            \n",
    "print(sum)\n",
    "\n",
    "# 처음에 고민한 거: 어떻게 00:00부터 23:59까지의 데이터를 입력할 수 있을까."
   ]
  }
 ],
 "metadata": {
  "kernelspec": {
   "display_name": "Python 3",
   "language": "python",
   "name": "python3"
  },
  "language_info": {
   "codemirror_mode": {
    "name": "ipython",
    "version": 3
   },
   "file_extension": ".py",
   "mimetype": "text/x-python",
   "name": "python",
   "nbconvert_exporter": "python",
   "pygments_lexer": "ipython3",
   "version": "3.7.3"
  }
 },
 "nbformat": 4,
 "nbformat_minor": 2
}
