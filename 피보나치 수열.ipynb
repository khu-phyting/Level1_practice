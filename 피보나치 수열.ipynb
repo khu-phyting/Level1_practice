{
 "cells": [
  {
   "cell_type": "markdown",
   "metadata": {},
   "source": [
    "# 피보나치 수열이란, 첫 번째 항의 값이 0이고 두 번째 항의 값이 1일 때, 이후의 항들은 이전의 두 항을 더한 값으로 이루어지는 수열을 말한다.\n",
    "\n",
    "## 예) 0, 1, 1, 2, 3, 5, 8, 13\n",
    "\n",
    "## 인풋을 정수 n으로 받았을때, n 이하까지의 피보나치 수열을 출력하는 프로그램을 작성하세요\n",
    "\n"
   ]
  },
  {
   "cell_type": "code",
   "execution_count": 19,
   "metadata": {},
   "outputs": [
    {
     "name": "stdout",
     "output_type": "stream",
     "text": [
      "정수 n을 입력하시오: 100\n",
      "0\n",
      "1\n",
      "1\n",
      "2\n",
      "3\n",
      "5\n",
      "8\n",
      "13\n",
      "21\n",
      "34\n",
      "55\n",
      "89\n"
     ]
    }
   ],
   "source": [
    "input_num = int(input(\"정수 n을 입력하시오: \"))\n",
    "if input_num < 0:\n",
    "    print(\"양의 정수를 입력하시오.\")\n",
    "    input_num = int(input(\"정수 n을 입력하시오: \"))\n",
    "\n",
    "a = 0\n",
    "b = 1\n",
    "c = a + b\n",
    "    \n",
    "print(a)\n",
    "print(b)\n",
    "print(c)\n",
    "\n",
    "while c < input_num:\n",
    "    a = b               # 변수 a에 이전에 b값을 할당\n",
    "    b = c               # 변수 b에 이전에 c값을 할당\n",
    "    c = a + b\n",
    "    \n",
    "    if c < input_num:  # c의 값이 input_num보다 작으면 c를 출력\n",
    "        print(c)"
   ]
  }
 ],
 "metadata": {
  "kernelspec": {
   "display_name": "Python 3",
   "language": "python",
   "name": "python3"
  },
  "language_info": {
   "codemirror_mode": {
    "name": "ipython",
    "version": 3
   },
   "file_extension": ".py",
   "mimetype": "text/x-python",
   "name": "python",
   "nbconvert_exporter": "python",
   "pygments_lexer": "ipython3",
   "version": "3.7.3"
  }
 },
 "nbformat": 4,
 "nbformat_minor": 2
}
