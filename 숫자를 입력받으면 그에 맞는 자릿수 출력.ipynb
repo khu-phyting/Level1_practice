{
 "cells": [
  {
   "cell_type": "code",
   "execution_count": 18,
   "metadata": {},
   "outputs": [
    {
     "name": "stdout",
     "output_type": "stream",
     "text": [
      "숫자를 입력하시오: 123\n",
      "100 의 자릿수입니다.\n"
     ]
    }
   ],
   "source": [
    "a = len(input(\"숫자를 입력하시오: \"))\n",
    "b = pow(10,a-1)\n",
    "print(b,\"의 자릿수입니다.\")"
   ]
  }
 ],
 "metadata": {
  "kernelspec": {
   "display_name": "Python 3",
   "language": "python",
   "name": "python3"
  },
  "language_info": {
   "codemirror_mode": {
    "name": "ipython",
    "version": 3
   },
   "file_extension": ".py",
   "mimetype": "text/x-python",
   "name": "python",
   "nbconvert_exporter": "python",
   "pygments_lexer": "ipython3",
   "version": "3.7.3"
  }
 },
 "nbformat": 4,
 "nbformat_minor": 2
}
