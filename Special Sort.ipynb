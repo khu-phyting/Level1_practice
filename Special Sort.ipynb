{
 "cells": [
  {
   "cell_type": "markdown",
   "metadata": {},
   "source": [
    "# n개의 정수를 가진 배열이 있다. 이 배열은 양의정수와 음의 정수를 모두 가지고 있다. 이제 당신은 이 배열을 좀 특별한 방법으로 정렬해야 한다.\n",
    "\n",
    "## 정렬이 되고 난 후, 음의 정수는 앞쪽에 양의정수는 뒷쪽에 있어야 한다. 또한 양의정수와 음의정수의 순서에는 변함이 없어야 한다.\n",
    "\n",
    "### 예. -1 1 3 -2 2 ans: -1 -2 1 3 2."
   ]
  },
  {
   "cell_type": "code",
   "execution_count": 4,
   "metadata": {},
   "outputs": [
    {
     "name": "stdout",
     "output_type": "stream",
     "text": [
      "[-1, -2, 1, 3, 2]\n"
     ]
    }
   ],
   "source": [
    "numbers = [-1,1,3,-2,2]\n",
    "Pos_ary = []\n",
    "Neg_ary = []\n",
    "\n",
    "for number in numbers:\n",
    "    if number < 0:\n",
    "        Neg_ary.append(number)     # append()함수를 이용해서 리스트에 요소를 추가.  리스트명.append(요소) 형태로 사용\n",
    "                                   # insert()함수를 이용해서 리스트에 요소를 추가할 수도 있음. 리스트명.insert(위치,요소) 형태로 사용\n",
    "        \n",
    "    else:\n",
    "        Pos_ary.append(number)\n",
    "        \n",
    "Output = Neg_ary + Pos_ary          # 리스트를 연결할 때는 문자열 연결 연산자 +를 사용해서 리스트를 연결한다.\n",
    "print(Output)                       # 리스트를 반복할 때는 문자열 반복 연산자 *를 사용해서 리스트를 반복한다."
   ]
  }
 ],
 "metadata": {
  "kernelspec": {
   "display_name": "Python 3",
   "language": "python",
   "name": "python3"
  },
  "language_info": {
   "codemirror_mode": {
    "name": "ipython",
    "version": 3
   },
   "file_extension": ".py",
   "mimetype": "text/x-python",
   "name": "python",
   "nbconvert_exporter": "python",
   "pygments_lexer": "ipython3",
   "version": "3.7.3"
  }
 },
 "nbformat": 4,
 "nbformat_minor": 2
}
